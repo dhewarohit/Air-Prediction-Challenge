{
 "cells": [
  {
   "cell_type": "code",
   "execution_count": 231,
   "metadata": {},
   "outputs": [],
   "source": [
    "import numpy as np\n",
    "import pandas as pd"
   ]
  },
  {
   "cell_type": "code",
   "execution_count": 232,
   "metadata": {},
   "outputs": [],
   "source": [
    "df=pd.read_csv(\"Train.csv\")"
   ]
  },
  {
   "cell_type": "code",
   "execution_count": 233,
   "metadata": {},
   "outputs": [
    {
     "data": {
      "text/html": [
       "<div>\n",
       "<style scoped>\n",
       "    .dataframe tbody tr th:only-of-type {\n",
       "        vertical-align: middle;\n",
       "    }\n",
       "\n",
       "    .dataframe tbody tr th {\n",
       "        vertical-align: top;\n",
       "    }\n",
       "\n",
       "    .dataframe thead th {\n",
       "        text-align: right;\n",
       "    }\n",
       "</style>\n",
       "<table border=\"1\" class=\"dataframe\">\n",
       "  <thead>\n",
       "    <tr style=\"text-align: right;\">\n",
       "      <th></th>\n",
       "      <th>feature_1</th>\n",
       "      <th>feature_2</th>\n",
       "      <th>feature_3</th>\n",
       "      <th>feature_4</th>\n",
       "      <th>feature_5</th>\n",
       "      <th>target</th>\n",
       "    </tr>\n",
       "  </thead>\n",
       "  <tbody>\n",
       "    <tr>\n",
       "      <th>0</th>\n",
       "      <td>0.293416</td>\n",
       "      <td>-0.945599</td>\n",
       "      <td>-0.421105</td>\n",
       "      <td>0.406816</td>\n",
       "      <td>0.525662</td>\n",
       "      <td>-82.154667</td>\n",
       "    </tr>\n",
       "    <tr>\n",
       "      <th>1</th>\n",
       "      <td>-0.836084</td>\n",
       "      <td>-0.189228</td>\n",
       "      <td>-0.776403</td>\n",
       "      <td>-1.053831</td>\n",
       "      <td>0.597997</td>\n",
       "      <td>-48.897960</td>\n",
       "    </tr>\n",
       "    <tr>\n",
       "      <th>2</th>\n",
       "      <td>0.236425</td>\n",
       "      <td>0.132836</td>\n",
       "      <td>-0.147723</td>\n",
       "      <td>0.699854</td>\n",
       "      <td>-0.187364</td>\n",
       "      <td>77.270371</td>\n",
       "    </tr>\n",
       "    <tr>\n",
       "      <th>3</th>\n",
       "      <td>0.175312</td>\n",
       "      <td>0.143194</td>\n",
       "      <td>-0.581111</td>\n",
       "      <td>-0.122107</td>\n",
       "      <td>-1.292168</td>\n",
       "      <td>-2.988581</td>\n",
       "    </tr>\n",
       "    <tr>\n",
       "      <th>4</th>\n",
       "      <td>-1.693011</td>\n",
       "      <td>0.542712</td>\n",
       "      <td>-2.798729</td>\n",
       "      <td>-0.686723</td>\n",
       "      <td>1.244077</td>\n",
       "      <td>-37.596722</td>\n",
       "    </tr>\n",
       "  </tbody>\n",
       "</table>\n",
       "</div>"
      ],
      "text/plain": [
       "   feature_1  feature_2  feature_3  feature_4  feature_5     target\n",
       "0   0.293416  -0.945599  -0.421105   0.406816   0.525662 -82.154667\n",
       "1  -0.836084  -0.189228  -0.776403  -1.053831   0.597997 -48.897960\n",
       "2   0.236425   0.132836  -0.147723   0.699854  -0.187364  77.270371\n",
       "3   0.175312   0.143194  -0.581111  -0.122107  -1.292168  -2.988581\n",
       "4  -1.693011   0.542712  -2.798729  -0.686723   1.244077 -37.596722"
      ]
     },
     "execution_count": 233,
     "metadata": {},
     "output_type": "execute_result"
    }
   ],
   "source": [
    "df.head()"
   ]
  },
  {
   "cell_type": "code",
   "execution_count": 234,
   "metadata": {},
   "outputs": [],
   "source": [
    "x=df.iloc[:,:-1].values\n",
    "y=df.iloc[:,-1].values"
   ]
  },
  {
   "cell_type": "code",
   "execution_count": 235,
   "metadata": {},
   "outputs": [
    {
     "data": {
      "text/plain": [
       "((1600, 5), (1600,))"
      ]
     },
     "execution_count": 235,
     "metadata": {},
     "output_type": "execute_result"
    }
   ],
   "source": [
    "x.shape,y.shape"
   ]
  },
  {
   "cell_type": "code",
   "execution_count": 236,
   "metadata": {},
   "outputs": [
    {
     "data": {
      "text/plain": [
       "-0.042407919903067984"
      ]
     },
     "execution_count": 236,
     "metadata": {},
     "output_type": "execute_result"
    }
   ],
   "source": [
    "x[:,3].mean()"
   ]
  },
  {
   "cell_type": "code",
   "execution_count": null,
   "metadata": {},
   "outputs": [],
   "source": []
  },
  {
   "cell_type": "code",
   "execution_count": null,
   "metadata": {},
   "outputs": [],
   "source": []
  },
  {
   "cell_type": "code",
   "execution_count": null,
   "metadata": {},
   "outputs": [],
   "source": []
  },
  {
   "cell_type": "code",
   "execution_count": 237,
   "metadata": {},
   "outputs": [],
   "source": [
    "w=np.ones(1600)\n",
    "x=np.vstack((w,x.T)).T"
   ]
  },
  {
   "cell_type": "code",
   "execution_count": 238,
   "metadata": {},
   "outputs": [
    {
     "data": {
      "text/plain": [
       "(1600, 6)"
      ]
     },
     "execution_count": 238,
     "metadata": {},
     "output_type": "execute_result"
    }
   ],
   "source": [
    "x.shape"
   ]
  },
  {
   "cell_type": "code",
   "execution_count": 239,
   "metadata": {},
   "outputs": [],
   "source": [
    "from sklearn.model_selection import train_test_split\n",
    "x_train,y_train,x_test,y_test=train_test_split(x,y,test_size=0.2)"
   ]
  },
  {
   "cell_type": "code",
   "execution_count": 240,
   "metadata": {},
   "outputs": [
    {
     "data": {
      "text/plain": [
       "((1280, 6), (1280,), (320, 6), (320,))"
      ]
     },
     "execution_count": 240,
     "metadata": {},
     "output_type": "execute_result"
    }
   ],
   "source": [
    "x_train.shape,x_test.shape,y_train.shape,y_test.shape"
   ]
  },
  {
   "cell_type": "code",
   "execution_count": 241,
   "metadata": {},
   "outputs": [
    {
     "data": {
      "text/plain": [
       "array([[ 1.        ,  1.4977728 , -0.65315596, -0.92674519, -0.52228622,\n",
       "         1.28888668],\n",
       "       [ 1.        ,  1.63864168, -2.91259073,  0.84421918,  0.29554059,\n",
       "        -1.47931927],\n",
       "       [ 1.        ,  1.14986223, -0.8348774 ,  0.1787837 ,  0.50931853,\n",
       "        -0.63854696],\n",
       "       [ 1.        , -0.40666741, -0.50813559, -1.07109549,  1.10441849,\n",
       "         1.20289698],\n",
       "       [ 1.        ,  0.59018772,  0.05416055,  0.38909294,  0.62076408,\n",
       "        -0.15002468],\n",
       "       [ 1.        , -0.82470704,  0.49942691,  1.29328064, -0.24067071,\n",
       "        -0.41913554],\n",
       "       [ 1.        ,  0.23061763, -0.36944146, -2.0737901 ,  0.44305631,\n",
       "         0.94075672],\n",
       "       [ 1.        ,  0.34279221, -1.14143048,  0.04855499,  0.03782617,\n",
       "        -0.4546623 ],\n",
       "       [ 1.        ,  0.58314137, -1.10805603,  0.25500507, -1.21562443,\n",
       "        -1.1041556 ]])"
      ]
     },
     "execution_count": 241,
     "metadata": {},
     "output_type": "execute_result"
    }
   ],
   "source": [
    "x_train[1:10]"
   ]
  },
  {
   "cell_type": "code",
   "execution_count": null,
   "metadata": {},
   "outputs": [],
   "source": []
  },
  {
   "cell_type": "code",
   "execution_count": 242,
   "metadata": {},
   "outputs": [],
   "source": [
    "def hypothesis(x,theta):\n",
    "    return np.dot(theta,x)\n",
    "def error(x,y,theta):\n",
    "    m=x.shape[0]\n",
    "    error=0\n",
    "    for i in range(m):\n",
    "        hx=hypothesis(x[i],theta)\n",
    "        error+=(hx-y[i])**2\n",
    "    return error\n",
    "\n",
    "def gradient(x,y,theta):\n",
    "    col=x_train.shape[1]\n",
    "    grad=np.zeros((col,))\n",
    "    m=x.shape[0]\n",
    "    for i in range(m):\n",
    "        hx=hypothesis(x[i],theta)\n",
    "        for j in range(col):\n",
    "            grad[j]+=(hx-y[i])*x[i][j]\n",
    "    return grad\n",
    "def gradientDecent(x,y,learning_rate=0.0001):\n",
    "    col=x_train.shape[1]\n",
    "    theta=np.zeros((col,))\n",
    "    itr=0\n",
    "    max_itr=200\n",
    "    error_list=[]\n",
    "    while(itr<=max_itr):\n",
    "        grad=gradient(x,y,theta)\n",
    "        e=error(x,y,theta)\n",
    "        error_list.append(e)\n",
    "        for k in range(col):\n",
    "            theta[k]=theta[k]-learning_rate*grad[k]\n",
    "        itr+=1\n",
    "    return theta,error_list"
   ]
  },
  {
   "cell_type": "code",
   "execution_count": 243,
   "metadata": {},
   "outputs": [],
   "source": [
    "final_theta,error_list=gradientDecent(x_train,x_test)"
   ]
  },
  {
   "cell_type": "code",
   "execution_count": 244,
   "metadata": {},
   "outputs": [],
   "source": [
    "import matplotlib.pyplot as plt"
   ]
  },
  {
   "cell_type": "code",
   "execution_count": 245,
   "metadata": {},
   "outputs": [
    {
     "data": {
      "text/plain": [
       "[<matplotlib.lines.Line2D at 0xbf51198>]"
      ]
     },
     "execution_count": 245,
     "metadata": {},
     "output_type": "execute_result"
    },
    {
     "data": {
      "image/png": "[encoded data removed]",
      "text/plain": [
       "<Figure size 432x288 with 1 Axes>"
      ]
     },
     "metadata": {
      "needs_background": "light"
     },
     "output_type": "display_data"
    }
   ],
   "source": [
    "plt.plot(error_list)"
   ]
  },
  {
   "cell_type": "code",
   "execution_count": 246,
   "metadata": {},
   "outputs": [
    {
     "data": {
      "text/plain": [
       "[16017334.251436764,\n",
       " 12147906.85445774,\n",
       " 9249643.127590464,\n",
       " 7077712.28341911,\n",
       " 5449262.1433055885,\n",
       " 4227668.67322797,\n",
       " 3310802.4649012242,\n",
       " 2622284.314928643,\n",
       " 2104965.855347175,\n",
       " 1716067.0959865197,\n",
       " 1423548.2705838156,\n",
       " 1203401.5220547412,\n",
       " 1037628.3488284453,\n",
       " 912728.5077474108,\n",
       " 818570.5303714089,\n",
       " 747547.0926360702,\n",
       " 693943.1032879945,\n",
       " 653462.713208669,\n",
       " 622875.1067532427,\n",
       " 599749.1147260645,\n",
       " 582254.2764448673,\n",
       " 569011.6371568502,\n",
       " 558981.7889934864,\n",
       " 551380.8148581742,\n",
       " 545617.1476786507,\n",
       " 541244.1152585461,\n",
       " 537924.2546870562,\n",
       " 535402.4625460744,\n",
       " 533485.7819511482,\n",
       " 532028.1773878381,\n",
       " 530919.0600686915,\n",
       " 530074.6349998979,\n",
       " 529431.3721399489,\n",
       " 528941.0773993188,\n",
       " 528567.1693000349,\n",
       " 528281.8647510714,\n",
       " 528064.0507249428,\n",
       " 527897.6737239849,\n",
       " 527770.5203538594,\n",
       " 527673.2934871617,\n",
       " 527598.9119573218,\n",
       " 527541.9793883534,\n",
       " 527498.3810771666,\n",
       " 527464.9778808773,\n",
       " 527439.3736321392,\n",
       " 527419.7383198416,\n",
       " 527404.6735880807,\n",
       " 527393.1103675126,\n",
       " 527384.2309189306,\n",
       " 527377.4094344053,\n",
       " 527372.1667534475,\n",
       " 527368.1358212271,\n",
       " 527365.0353264826,\n",
       " 527362.649571438,\n",
       " 527360.8130924071,\n",
       " 527359.3989038653,\n",
       " 527358.3095076908,\n",
       " 527357.4700137293,\n",
       " 527356.8228732636,\n",
       " 527356.3238453006,\n",
       " 527355.9389056059,\n",
       " 527355.6418770492,\n",
       " 527355.4126121006,\n",
       " 527355.2355981893,\n",
       " 527355.0988870809,\n",
       " 527354.9932726343,\n",
       " 527354.9116590406,\n",
       " 527354.8485752285,\n",
       " 527354.7998014604,\n",
       " 527354.7620820978,\n",
       " 527354.7329045398,\n",
       " 527354.7103290645,\n",
       " 527354.69285776,\n",
       " 527354.679333573,\n",
       " 527354.6688624873,\n",
       " 527354.6607535483,\n",
       " 527354.6544725965,\n",
       " 527354.6496065801,\n",
       " 527354.6458360235,\n",
       " 527354.6429137627,\n",
       " 527354.640648537,\n",
       " 527354.6388923092,\n",
       " 527354.6375304731,\n",
       " 527354.6364742875,\n",
       " 527354.635655016,\n",
       " 527354.6350194182,\n",
       " 527354.6345262408,\n",
       " 527354.6341435158,\n",
       " 527354.6338464614,\n",
       " 527354.63361587,\n",
       " 527354.6334368448,\n",
       " 527354.6332978387,\n",
       " 527354.6331898913,\n",
       " 527354.6331060504,\n",
       " 527354.6330409276,\n",
       " 527354.6329903358,\n",
       " 527354.6329510309,\n",
       " 527354.6329204881,\n",
       " 527354.6328967531,\n",
       " 527354.6328783074,\n",
       " 527354.6328639695,\n",
       " 527354.6328528239,\n",
       " 527354.6328441584,\n",
       " 527354.6328374218,\n",
       " 527354.632832183,\n",
       " 527354.6328281094,\n",
       " 527354.6328249412,\n",
       " 527354.6328224777,\n",
       " 527354.6328205619,\n",
       " 527354.6328190701,\n",
       " 527354.63281791,\n",
       " 527354.6328170067,\n",
       " 527354.6328163052,\n",
       " 527354.6328157592,\n",
       " 527354.6328153337,\n",
       " 527354.632815003,\n",
       " 527354.632814745,\n",
       " 527354.6328145444,\n",
       " 527354.6328143885,\n",
       " 527354.632814267,\n",
       " 527354.6328141729,\n",
       " 527354.6328140987,\n",
       " 527354.6328140411,\n",
       " 527354.6328139971,\n",
       " 527354.6328139621,\n",
       " 527354.6328139348,\n",
       " 527354.6328139143,\n",
       " 527354.6328138976,\n",
       " 527354.6328138836,\n",
       " 527354.6328138747,\n",
       " 527354.632813867,\n",
       " 527354.632813861,\n",
       " 527354.6328138558,\n",
       " 527354.6328138519,\n",
       " 527354.63281385,\n",
       " 527354.6328138465,\n",
       " 527354.632813846,\n",
       " 527354.6328138437,\n",
       " 527354.6328138437,\n",
       " 527354.6328138424,\n",
       " 527354.6328138416,\n",
       " 527354.6328138413,\n",
       " 527354.632813841,\n",
       " 527354.6328138404,\n",
       " 527354.632813841,\n",
       " 527354.6328138392,\n",
       " 527354.6328138396,\n",
       " 527354.6328138402,\n",
       " 527354.6328138388,\n",
       " 527354.6328138402,\n",
       " 527354.6328138399,\n",
       " 527354.6328138395,\n",
       " 527354.6328138397,\n",
       " 527354.63281384,\n",
       " 527354.6328138388,\n",
       " 527354.6328138388,\n",
       " 527354.6328138399,\n",
       " 527354.6328138391,\n",
       " 527354.63281384,\n",
       " 527354.63281384,\n",
       " 527354.6328138398,\n",
       " 527354.6328138399,\n",
       " 527354.6328138396,\n",
       " 527354.6328138392,\n",
       " 527354.6328138397,\n",
       " 527354.6328138387,\n",
       " 527354.6328138405,\n",
       " 527354.6328138395,\n",
       " 527354.6328138395,\n",
       " 527354.6328138397,\n",
       " 527354.6328138391,\n",
       " 527354.6328138396,\n",
       " 527354.6328138394,\n",
       " 527354.6328138398,\n",
       " 527354.6328138395,\n",
       " 527354.6328138394,\n",
       " 527354.6328138398,\n",
       " 527354.63281384,\n",
       " 527354.6328138392,\n",
       " 527354.6328138398,\n",
       " 527354.6328138396,\n",
       " 527354.6328138395,\n",
       " 527354.6328138394,\n",
       " 527354.6328138392,\n",
       " 527354.6328138389,\n",
       " 527354.6328138397,\n",
       " 527354.6328138396,\n",
       " 527354.6328138396,\n",
       " 527354.6328138392,\n",
       " 527354.6328138392,\n",
       " 527354.6328138397,\n",
       " 527354.6328138395,\n",
       " 527354.6328138396,\n",
       " 527354.6328138388,\n",
       " 527354.63281384,\n",
       " 527354.6328138391,\n",
       " 527354.6328138398,\n",
       " 527354.6328138397,\n",
       " 527354.6328138397,\n",
       " 527354.6328138398,\n",
       " 527354.6328138391]"
      ]
     },
     "execution_count": 246,
     "metadata": {},
     "output_type": "execute_result"
    }
   ],
   "source": [
    "error_list"
   ]
  },
  {
   "cell_type": "code",
   "execution_count": 247,
   "metadata": {},
   "outputs": [],
   "source": [
    "a=[]\n",
    "for i in range(y_train.shape[0]):\n",
    "    a.append(hypothesis(final_theta,y_train[i]))"
   ]
  },
  {
   "cell_type": "code",
   "execution_count": 248,
   "metadata": {},
   "outputs": [
    {
     "data": {
      "text/plain": [
       "0.9614133631905548"
      ]
     },
     "execution_count": 248,
     "metadata": {},
     "output_type": "execute_result"
    }
   ],
   "source": [
    "from sklearn.metrics import r2_score\n",
    "r2_score(y_test, a)"
   ]
  },
  {
   "cell_type": "code",
   "execution_count": 263,
   "metadata": {},
   "outputs": [
    {
     "data": {
      "text/plain": [
       "array([[ 1.01525387,  2.07620944, -0.26643482, -2.4180882 , -0.98050279],\n",
       "       [-0.3750212 ,  0.95318453,  0.62671914,  0.70440575, -0.35548921],\n",
       "       [-1.02445225,  0.96299111, -0.407942  , -1.86127383,  0.45520135],\n",
       "       [-2.4898408 ,  0.54480173,  0.6012189 , -0.60702147, -1.31428633],\n",
       "       [-0.38467471, -0.83362421,  1.35855215, -0.54793205,  0.41192542]])"
      ]
     },
     "execution_count": 263,
     "metadata": {},
     "output_type": "execute_result"
    }
   ],
   "source": [
    "test=pd.read_csv(\"test.csv\")\n",
    "test=test.values\n",
    "test[:5]"
   ]
  },
  {
   "cell_type": "code",
   "execution_count": 257,
   "metadata": {},
   "outputs": [
    {
     "data": {
      "text/plain": [
       "(400, 5)"
      ]
     },
     "execution_count": 257,
     "metadata": {},
     "output_type": "execute_result"
    }
   ],
   "source": [
    "test.shape"
   ]
  },
  {
   "cell_type": "code",
   "execution_count": 258,
   "metadata": {},
   "outputs": [],
   "source": [
    "w=np.ones(400)\n",
    "test=np.vstack((w,test.T)).T"
   ]
  },
  {
   "cell_type": "code",
   "execution_count": 259,
   "metadata": {},
   "outputs": [
    {
     "data": {
      "text/plain": [
       "(400, 6)"
      ]
     },
     "execution_count": 259,
     "metadata": {},
     "output_type": "execute_result"
    }
   ],
   "source": [
    "test.shape"
   ]
  },
  {
   "cell_type": "code",
   "execution_count": 260,
   "metadata": {},
   "outputs": [],
   "source": [
    "c=[]\n",
    "for i in range(test.shape[0]):\n",
    "    c.append(hypothesis(final_theta,test[i]))"
   ]
  },
  {
   "cell_type": "code",
   "execution_count": 264,
   "metadata": {},
   "outputs": [
    {
     "data": {
      "text/plain": [
       "400"
      ]
     },
     "execution_count": 264,
     "metadata": {},
     "output_type": "execute_result"
    }
   ],
   "source": [
    "len(c)"
   ]
  },
  {
   "cell_type": "code",
   "execution_count": 265,
   "metadata": {},
   "outputs": [],
   "source": [
    "t=pd.DataFrame(c)\n",
    "t.to_csv(\"predicted.csv\")"
   ]
  },
  {
   "cell_type": "code",
   "execution_count": null,
   "metadata": {},
   "outputs": [],
   "source": []
  }
 ],
 "metadata": {
  "kernelspec": {
   "display_name": "Python 3",
   "language": "python",
   "name": "python3"
  },
  "language_info": {
   "codemirror_mode": {
    "name": "ipython",
    "version": 3
   },
   "file_extension": ".py",
   "mimetype": "text/x-python",
   "name": "python",
   "nbconvert_exporter": "python",
   "pygments_lexer": "ipython3",
   "version": "3.7.1"
  }
 },
 "nbformat": 4,
 "nbformat_minor": 2
}
